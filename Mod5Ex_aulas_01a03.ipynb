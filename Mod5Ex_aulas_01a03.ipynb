{
 "cells": [
  {
   "cell_type": "markdown",
   "metadata": {},
   "source": [
    "# Módulo 5 Tarefa 1\n",
    "## Base  de nascidos vivos do DataSUS\n",
    "O DataSUS disponibiliza diversos arquivos de dados com relação a seus segurados, conforme a [lei da transparência de informações públicas](https://www.sisgov.com/transparencia-acesso-informacao/#:~:text=A%20Lei%20da%20Transpar%C3%AAncia%20(LC,em%20um%20site%20na%20internet.). \n",
    "\n",
    "Essas informações podem ser obtidas pela internet [aqui](http://www2.datasus.gov.br/DATASUS/index.php?area=0901&item=1). Como o processo de obtenção desses arquivos foge um pouco do nosso escopo, deixamos o arquivo ```SINASC_RO_2019.csv``` já como vai ser encontrado no DataSUS. O dicionário de dados está no arquivo ```estrutura_sinasc_para_CD.pdf``` (o nome do arquivo tal qual no portal do DataSUS).\n",
    "\n",
    "### Nosso objetivo\n",
    "Queremos deixar uma base organizada para podermos estudar a relação entre partos com risco para o bebê e algumas condições como tempo de parto, consultas de pré-natal etc.\n",
    "\n",
    "#### Preparação da base\n",
    "1. Carregue a base 'SINASC_RO_2019.csv'. Conte o número de registros e o número de registros não duplicados da base. Dica: você aprendeu um método que remove duplicados, encadeie este método com um outro método que conta o número de linhas. **Há linhas duplicadas?**  \n",
    "\n",
    "2. Conte o número de valores *missing* por variável.  \n",
    "\n",
    "3. Ok, no item anterior você deve ter achado pouco prático ler a informação de tantas variáveis, muitas delas nem devem ser interesantes. Então crie uma seleção dessa base somente com as colunas que interessam. São elas:\n",
    "``` \n",
    "['LOCNASC', 'IDADEMAE', 'ESTCIVMAE', 'ESCMAE', 'QTDFILVIVO', \n",
    "    'GESTACAO', 'GRAVIDEZ', 'CONSULTAS', 'APGAR5'] \n",
    "```\n",
    "Refaça a contagem de valores *missings*.  \n",
    "\n",
    "4. Apgar é uma *nota* que o pediatra dá ao bebê quando nasce de acordo com algumas características associadas principalmente à respiração. Apgar 1 e Apgar 5 são as notas 1 e 5 minutos do nascimento. Apgar5 será a nossa variável de interesse principal. Então remova todos os registros com Apgar5 não preenchido. Para esta seleção, conte novamente o número de linhas e o número de *missings*.  \n",
    "\n",
    "5. observe que as variáveis ```['ESTCIVMAE', 'CONSULTAS']``` possuem o código ```9```, que significa *ignorado*. Vamos assumir que o não preenchido é o mesmo que o código ```9```.<br>\n",
    "6. Substitua os valores faltantes da quantitativa (```QTDFILVIVO```) por zero.  \n",
    "7. Das restantes, decida que valore te parece mais adequado (um 'não preenchido' ou um valor 'mais provável' como no item anterior) e preencha. Justifique. Lembre-se de que tratamento de dados é trabalho do cientista, e que estamos tomando decisões a todo o momento - não há necessariamente certo e errado aqui.  \n",
    "8. O Apgar possui uma classificação indicando se o bebê passou por asfixia:\n",
    "- Entre 8 e 10 está em uma faixa 'normal'. \n",
    "- Entre 6 e 7, significa que o recém-nascido passou por 'asfixia leve'. \n",
    "- Entre 4 e 5 significa 'asfixia moderada'.\n",
    "- Entre 0 e 3 significa 'asfixia severa'.  \n",
    "\n",
    "Crie uma categorização dessa variável com essa codificação e calcule as frequências dessa categorização.  \n",
    "<br>\n",
    "9. Renomeie as variáveis para que fiquem no *snake case*, ou seja, em letras minúsculas, com um *underscore* entre as palávras. Dica: repare que se você não quiser criar um *dataframe* novo, você vai precisar usar a opção ```inplace = True```."
   ]
  },
  {
   "cell_type": "code",
   "execution_count": 42,
   "metadata": {},
   "outputs": [
    {
     "name": "stdout",
     "output_type": "stream",
     "text": [
      "(27028, 69)\n"
     ]
    },
    {
     "data": {
      "text/plain": [
       "(27028, 69)"
      ]
     },
     "execution_count": 42,
     "metadata": {},
     "output_type": "execute_result"
    }
   ],
   "source": [
    "import pandas as pd\n",
    "import requests\n",
    "\n",
    "# 1) seu código aqui\n",
    "sinasc = pd.read_csv('SINASC_RO_2019.csv')\n",
    "print(sinasc.shape)\n",
    "sinasc.drop_duplicates().shape\n",
    "# Não há duplicados"
   ]
  },
  {
   "cell_type": "code",
   "execution_count": 43,
   "metadata": {},
   "outputs": [
    {
     "data": {
      "text/plain": [
       "ORIGEM          0\n",
       "CODESTAB      115\n",
       "CODMUNNASC      0\n",
       "LOCNASC         0\n",
       "IDADEMAE        0\n",
       "             ... \n",
       "munResUf        0\n",
       "munResLat       1\n",
       "munResLon       1\n",
       "munResAlt       1\n",
       "munResArea      1\n",
       "Length: 69, dtype: int64"
      ]
     },
     "execution_count": 43,
     "metadata": {},
     "output_type": "execute_result"
    }
   ],
   "source": [
    "# 2) seu código aqui\n",
    "sinasc.isna().sum()"
   ]
  },
  {
   "cell_type": "code",
   "execution_count": 44,
   "metadata": {},
   "outputs": [
    {
     "data": {
      "text/plain": [
       "LOCNASC          0\n",
       "IDADEMAE         0\n",
       "ESTCIVMAE      317\n",
       "ESCMAE         312\n",
       "QTDFILVIVO    1573\n",
       "GESTACAO      1232\n",
       "GRAVIDEZ        79\n",
       "CONSULTAS        0\n",
       "APGAR5         103\n",
       "dtype: int64"
      ]
     },
     "execution_count": 44,
     "metadata": {},
     "output_type": "execute_result"
    }
   ],
   "source": [
    "# 3) seu código aqui\n",
    "selecao=['LOCNASC', 'IDADEMAE', 'ESTCIVMAE', 'ESCMAE', 'QTDFILVIVO', \n",
    "    'GESTACAO', 'GRAVIDEZ', 'CONSULTAS', 'APGAR5'] \n",
    "selecao_sinasc=sinasc[selecao].copy()\n",
    "selecao_sinasc.isna().sum()"
   ]
  },
  {
   "cell_type": "code",
   "execution_count": 46,
   "metadata": {},
   "outputs": [],
   "source": [
    "# 4) seu código aqui\n",
    "selecao_sinasc.dropna(subset=['APGAR5'],inplace=True)"
   ]
  },
  {
   "cell_type": "code",
   "execution_count": 49,
   "metadata": {},
   "outputs": [
    {
     "name": "stdout",
     "output_type": "stream",
     "text": [
      "(26925, 9)\n"
     ]
    },
    {
     "data": {
      "text/plain": [
       "LOCNASC          0\n",
       "IDADEMAE         0\n",
       "ESTCIVMAE      315\n",
       "ESCMAE         310\n",
       "QTDFILVIVO    1566\n",
       "GESTACAO      1216\n",
       "GRAVIDEZ        76\n",
       "CONSULTAS        0\n",
       "APGAR5           0\n",
       "dtype: int64"
      ]
     },
     "execution_count": 49,
     "metadata": {},
     "output_type": "execute_result"
    }
   ],
   "source": [
    "print(selecao_sinasc.shape)\n",
    "selecao_sinasc.isna().sum()\n"
   ]
  },
  {
   "cell_type": "code",
   "execution_count": 56,
   "metadata": {},
   "outputs": [],
   "source": [
    "# 5) seu código aqui\n",
    "selecao_sinasc['ESTCIVMAE'].fillna(value=9,inplace=True)"
   ]
  },
  {
   "cell_type": "code",
   "execution_count": 57,
   "metadata": {},
   "outputs": [
    {
     "data": {
      "text/plain": [
       "LOCNASC          0\n",
       "IDADEMAE         0\n",
       "ESTCIVMAE        0\n",
       "ESCMAE         310\n",
       "QTDFILVIVO    1566\n",
       "GESTACAO      1216\n",
       "GRAVIDEZ        76\n",
       "CONSULTAS        0\n",
       "APGAR5           0\n",
       "dtype: int64"
      ]
     },
     "execution_count": 57,
     "metadata": {},
     "output_type": "execute_result"
    }
   ],
   "source": [
    "selecao_sinasc.isna().sum()"
   ]
  },
  {
   "cell_type": "code",
   "execution_count": 59,
   "metadata": {},
   "outputs": [
    {
     "data": {
      "text/plain": [
       "LOCNASC          0\n",
       "IDADEMAE         0\n",
       "ESTCIVMAE        0\n",
       "ESCMAE         310\n",
       "QTDFILVIVO       0\n",
       "GESTACAO      1216\n",
       "GRAVIDEZ        76\n",
       "CONSULTAS        0\n",
       "APGAR5           0\n",
       "dtype: int64"
      ]
     },
     "execution_count": 59,
     "metadata": {},
     "output_type": "execute_result"
    }
   ],
   "source": [
    "# 6) Seu código aqui\n",
    "selecao_sinasc['QTDFILVIVO'].fillna(value=0,inplace=True)\n",
    "selecao_sinasc.isna().sum()"
   ]
  },
  {
   "cell_type": "code",
   "execution_count": 60,
   "metadata": {},
   "outputs": [],
   "source": [
    "# 7) seu código aqui\n",
    "#input de valores randomizados a partir da equivalência estatistica\n",
    "import random"
   ]
  },
  {
   "cell_type": "code",
   "execution_count": 61,
   "metadata": {},
   "outputs": [
    {
     "data": {
      "text/plain": [
       "LOCNASC       0\n",
       "IDADEMAE      0\n",
       "ESTCIVMAE     0\n",
       "ESCMAE        0\n",
       "QTDFILVIVO    0\n",
       "GESTACAO      0\n",
       "GRAVIDEZ      0\n",
       "CONSULTAS     0\n",
       "APGAR5        0\n",
       "dtype: int64"
      ]
     },
     "execution_count": 61,
     "metadata": {},
     "output_type": "execute_result"
    }
   ],
   "source": [
    "ESCMAE_values = selecao_sinasc['ESCMAE'].dropna().tolist() #cria lista de valores possiveis mantendo a probabilidade estatistica dos valores\n",
    "GESTACAO_values = selecao_sinasc['GESTACAO'].dropna().tolist() #cria lista de valores possiveis mantendo a probabilidade estatistica dos valores\n",
    "GRAVIDEZ_values = selecao_sinasc['GRAVIDEZ'].dropna().tolist() #cria lista de valores possiveis mantendo a probabilidade estatistica dos valores\n",
    "\n",
    "selecao_sinasc['ESCMAE'].fillna(random.choice(ESCMAE_values), inplace=True)\n",
    "selecao_sinasc['GESTACAO'].fillna(random.choice(GESTACAO_values), inplace=True)\n",
    "selecao_sinasc['GRAVIDEZ'].fillna(random.choice(GRAVIDEZ_values), inplace=True)\n",
    "\n",
    "selecao_sinasc.isna().sum()"
   ]
  },
  {
   "cell_type": "markdown",
   "metadata": {},
   "source": [
    "Entre 8 e 10 está em uma faixa 'normal'.\n",
    "Entre 6 e 7, significa que o recém-nascido passou por 'asfixia leve'.\n",
    "Entre 4 e 5 significa 'asfixia moderada'.\n",
    "Entre 0 e 3 significa 'asfixia severa'."
   ]
  },
  {
   "cell_type": "code",
   "execution_count": 64,
   "metadata": {},
   "outputs": [],
   "source": [
    "# 8) seu código aqui\n",
    "selecao_sinasc.loc[selecao_sinasc['APGAR5'] < 4, 'APGAR5_cat'] = 'asfixia severa'\n",
    "\n",
    "selecao_sinasc.loc[(selecao_sinasc['APGAR5'] >= 4) & (selecao_sinasc['APGAR5'] < 6),\n",
    "           'APGAR5_cat'] = 'asfixia moderada'\n",
    "\n",
    "selecao_sinasc.loc[(selecao_sinasc['APGAR5'] >= 6) & (selecao_sinasc['APGAR5'] < 8),\n",
    "           'APGAR5_cat'] = 'asfixia leve'\n",
    "\n",
    "selecao_sinasc.loc[(selecao_sinasc['APGAR5'] >= 8), 'APGAR5_cat'] = 'normal'"
   ]
  },
  {
   "cell_type": "code",
   "execution_count": 80,
   "metadata": {},
   "outputs": [
    {
     "data": {
      "text/plain": [
       "normal              26463\n",
       "asfixia leve          320\n",
       "asfixia moderada       68\n",
       "asfixia severa         74\n",
       "Name: APGAR5_cat, dtype: int64"
      ]
     },
     "execution_count": 80,
     "metadata": {},
     "output_type": "execute_result"
    }
   ],
   "source": [
    "selecao_sinasc['APGAR5_cat'].value_counts().sort_index(key=lambda x: x.map({v: i for i, v in enumerate(['normal','asfixia leve','asfixia moderada','asfixia severa'])}))"
   ]
  },
  {
   "cell_type": "code",
   "execution_count": 81,
   "metadata": {},
   "outputs": [
    {
     "data": {
      "text/html": [
       "<div>\n",
       "<style scoped>\n",
       "    .dataframe tbody tr th:only-of-type {\n",
       "        vertical-align: middle;\n",
       "    }\n",
       "\n",
       "    .dataframe tbody tr th {\n",
       "        vertical-align: top;\n",
       "    }\n",
       "\n",
       "    .dataframe thead th {\n",
       "        text-align: right;\n",
       "    }\n",
       "</style>\n",
       "<table border=\"1\" class=\"dataframe\">\n",
       "  <thead>\n",
       "    <tr style=\"text-align: right;\">\n",
       "      <th></th>\n",
       "      <th>LOCNASC</th>\n",
       "      <th>IDADEMAE</th>\n",
       "      <th>ESTCIVMAE</th>\n",
       "      <th>ESCMAE</th>\n",
       "      <th>QTDFILVIVO</th>\n",
       "      <th>GESTACAO</th>\n",
       "      <th>GRAVIDEZ</th>\n",
       "      <th>CONSULTAS</th>\n",
       "      <th>APGAR5</th>\n",
       "      <th>APGAR5_cat</th>\n",
       "    </tr>\n",
       "  </thead>\n",
       "  <tbody>\n",
       "    <tr>\n",
       "      <th>0</th>\n",
       "      <td>1</td>\n",
       "      <td>19</td>\n",
       "      <td>5.0</td>\n",
       "      <td>8 a 11 anos</td>\n",
       "      <td>0.0</td>\n",
       "      <td>37 a 41 semanas</td>\n",
       "      <td>Única</td>\n",
       "      <td>4</td>\n",
       "      <td>10.0</td>\n",
       "      <td>normal</td>\n",
       "    </tr>\n",
       "    <tr>\n",
       "      <th>1</th>\n",
       "      <td>1</td>\n",
       "      <td>29</td>\n",
       "      <td>2.0</td>\n",
       "      <td>8 a 11 anos</td>\n",
       "      <td>1.0</td>\n",
       "      <td>37 a 41 semanas</td>\n",
       "      <td>Única</td>\n",
       "      <td>4</td>\n",
       "      <td>9.0</td>\n",
       "      <td>normal</td>\n",
       "    </tr>\n",
       "    <tr>\n",
       "      <th>2</th>\n",
       "      <td>1</td>\n",
       "      <td>37</td>\n",
       "      <td>9.0</td>\n",
       "      <td>8 a 11 anos</td>\n",
       "      <td>2.0</td>\n",
       "      <td>37 a 41 semanas</td>\n",
       "      <td>Única</td>\n",
       "      <td>4</td>\n",
       "      <td>10.0</td>\n",
       "      <td>normal</td>\n",
       "    </tr>\n",
       "    <tr>\n",
       "      <th>3</th>\n",
       "      <td>1</td>\n",
       "      <td>30</td>\n",
       "      <td>5.0</td>\n",
       "      <td>12 anos ou mais</td>\n",
       "      <td>0.0</td>\n",
       "      <td>37 a 41 semanas</td>\n",
       "      <td>Única</td>\n",
       "      <td>3</td>\n",
       "      <td>10.0</td>\n",
       "      <td>normal</td>\n",
       "    </tr>\n",
       "    <tr>\n",
       "      <th>4</th>\n",
       "      <td>1</td>\n",
       "      <td>30</td>\n",
       "      <td>2.0</td>\n",
       "      <td>8 a 11 anos</td>\n",
       "      <td>1.0</td>\n",
       "      <td>37 a 41 semanas</td>\n",
       "      <td>Única</td>\n",
       "      <td>4</td>\n",
       "      <td>10.0</td>\n",
       "      <td>normal</td>\n",
       "    </tr>\n",
       "    <tr>\n",
       "      <th>...</th>\n",
       "      <td>...</td>\n",
       "      <td>...</td>\n",
       "      <td>...</td>\n",
       "      <td>...</td>\n",
       "      <td>...</td>\n",
       "      <td>...</td>\n",
       "      <td>...</td>\n",
       "      <td>...</td>\n",
       "      <td>...</td>\n",
       "      <td>...</td>\n",
       "    </tr>\n",
       "    <tr>\n",
       "      <th>27023</th>\n",
       "      <td>1</td>\n",
       "      <td>32</td>\n",
       "      <td>2.0</td>\n",
       "      <td>12 anos ou mais</td>\n",
       "      <td>1.0</td>\n",
       "      <td>32 a 36 semanas</td>\n",
       "      <td>Única</td>\n",
       "      <td>4</td>\n",
       "      <td>9.0</td>\n",
       "      <td>normal</td>\n",
       "    </tr>\n",
       "    <tr>\n",
       "      <th>27024</th>\n",
       "      <td>1</td>\n",
       "      <td>19</td>\n",
       "      <td>1.0</td>\n",
       "      <td>8 a 11 anos</td>\n",
       "      <td>0.0</td>\n",
       "      <td>37 a 41 semanas</td>\n",
       "      <td>Única</td>\n",
       "      <td>4</td>\n",
       "      <td>9.0</td>\n",
       "      <td>normal</td>\n",
       "    </tr>\n",
       "    <tr>\n",
       "      <th>27025</th>\n",
       "      <td>1</td>\n",
       "      <td>24</td>\n",
       "      <td>2.0</td>\n",
       "      <td>8 a 11 anos</td>\n",
       "      <td>0.0</td>\n",
       "      <td>37 a 41 semanas</td>\n",
       "      <td>Única</td>\n",
       "      <td>4</td>\n",
       "      <td>10.0</td>\n",
       "      <td>normal</td>\n",
       "    </tr>\n",
       "    <tr>\n",
       "      <th>27026</th>\n",
       "      <td>1</td>\n",
       "      <td>21</td>\n",
       "      <td>2.0</td>\n",
       "      <td>8 a 11 anos</td>\n",
       "      <td>1.0</td>\n",
       "      <td>32 a 36 semanas</td>\n",
       "      <td>Única</td>\n",
       "      <td>4</td>\n",
       "      <td>9.0</td>\n",
       "      <td>normal</td>\n",
       "    </tr>\n",
       "    <tr>\n",
       "      <th>27027</th>\n",
       "      <td>1</td>\n",
       "      <td>18</td>\n",
       "      <td>5.0</td>\n",
       "      <td>8 a 11 anos</td>\n",
       "      <td>1.0</td>\n",
       "      <td>37 a 41 semanas</td>\n",
       "      <td>Única</td>\n",
       "      <td>4</td>\n",
       "      <td>8.0</td>\n",
       "      <td>normal</td>\n",
       "    </tr>\n",
       "  </tbody>\n",
       "</table>\n",
       "<p>26925 rows × 10 columns</p>\n",
       "</div>"
      ],
      "text/plain": [
       "       LOCNASC  IDADEMAE  ESTCIVMAE           ESCMAE  QTDFILVIVO  \\\n",
       "0            1        19        5.0      8 a 11 anos         0.0   \n",
       "1            1        29        2.0      8 a 11 anos         1.0   \n",
       "2            1        37        9.0      8 a 11 anos         2.0   \n",
       "3            1        30        5.0  12 anos ou mais         0.0   \n",
       "4            1        30        2.0      8 a 11 anos         1.0   \n",
       "...        ...       ...        ...              ...         ...   \n",
       "27023        1        32        2.0  12 anos ou mais         1.0   \n",
       "27024        1        19        1.0      8 a 11 anos         0.0   \n",
       "27025        1        24        2.0      8 a 11 anos         0.0   \n",
       "27026        1        21        2.0      8 a 11 anos         1.0   \n",
       "27027        1        18        5.0      8 a 11 anos         1.0   \n",
       "\n",
       "              GESTACAO GRAVIDEZ  CONSULTAS  APGAR5 APGAR5_cat  \n",
       "0      37 a 41 semanas    Única          4    10.0     normal  \n",
       "1      37 a 41 semanas    Única          4     9.0     normal  \n",
       "2      37 a 41 semanas    Única          4    10.0     normal  \n",
       "3      37 a 41 semanas    Única          3    10.0     normal  \n",
       "4      37 a 41 semanas    Única          4    10.0     normal  \n",
       "...                ...      ...        ...     ...        ...  \n",
       "27023  32 a 36 semanas    Única          4     9.0     normal  \n",
       "27024  37 a 41 semanas    Única          4     9.0     normal  \n",
       "27025  37 a 41 semanas    Única          4    10.0     normal  \n",
       "27026  32 a 36 semanas    Única          4     9.0     normal  \n",
       "27027  37 a 41 semanas    Única          4     8.0     normal  \n",
       "\n",
       "[26925 rows x 10 columns]"
      ]
     },
     "execution_count": 81,
     "metadata": {},
     "output_type": "execute_result"
    }
   ],
   "source": [
    "# 9) seu código aqui\n",
    "selecao_sinasc"
   ]
  },
  {
   "cell_type": "code",
   "execution_count": 98,
   "metadata": {},
   "outputs": [],
   "source": [
    "selecao_sinasc = selecao_sinasc.applymap(lambda x: str(x).lower().replace(' ', '_'))"
   ]
  },
  {
   "cell_type": "code",
   "execution_count": 99,
   "metadata": {},
   "outputs": [
    {
     "data": {
      "text/html": [
       "<div>\n",
       "<style scoped>\n",
       "    .dataframe tbody tr th:only-of-type {\n",
       "        vertical-align: middle;\n",
       "    }\n",
       "\n",
       "    .dataframe tbody tr th {\n",
       "        vertical-align: top;\n",
       "    }\n",
       "\n",
       "    .dataframe thead th {\n",
       "        text-align: right;\n",
       "    }\n",
       "</style>\n",
       "<table border=\"1\" class=\"dataframe\">\n",
       "  <thead>\n",
       "    <tr style=\"text-align: right;\">\n",
       "      <th></th>\n",
       "      <th>locnasc</th>\n",
       "      <th>idademae</th>\n",
       "      <th>estcivmae</th>\n",
       "      <th>escmae</th>\n",
       "      <th>qtdfilvivo</th>\n",
       "      <th>gestacao</th>\n",
       "      <th>gravidez</th>\n",
       "      <th>consultas</th>\n",
       "      <th>apgar5</th>\n",
       "      <th>apgar5_cat</th>\n",
       "    </tr>\n",
       "  </thead>\n",
       "  <tbody>\n",
       "    <tr>\n",
       "      <th>0</th>\n",
       "      <td>1</td>\n",
       "      <td>19</td>\n",
       "      <td>5.0</td>\n",
       "      <td>8_a_11_anos</td>\n",
       "      <td>0.0</td>\n",
       "      <td>37_a_41_semanas</td>\n",
       "      <td>única</td>\n",
       "      <td>4</td>\n",
       "      <td>10.0</td>\n",
       "      <td>normal</td>\n",
       "    </tr>\n",
       "    <tr>\n",
       "      <th>1</th>\n",
       "      <td>1</td>\n",
       "      <td>29</td>\n",
       "      <td>2.0</td>\n",
       "      <td>8_a_11_anos</td>\n",
       "      <td>1.0</td>\n",
       "      <td>37_a_41_semanas</td>\n",
       "      <td>única</td>\n",
       "      <td>4</td>\n",
       "      <td>9.0</td>\n",
       "      <td>normal</td>\n",
       "    </tr>\n",
       "    <tr>\n",
       "      <th>2</th>\n",
       "      <td>1</td>\n",
       "      <td>37</td>\n",
       "      <td>9.0</td>\n",
       "      <td>8_a_11_anos</td>\n",
       "      <td>2.0</td>\n",
       "      <td>37_a_41_semanas</td>\n",
       "      <td>única</td>\n",
       "      <td>4</td>\n",
       "      <td>10.0</td>\n",
       "      <td>normal</td>\n",
       "    </tr>\n",
       "    <tr>\n",
       "      <th>3</th>\n",
       "      <td>1</td>\n",
       "      <td>30</td>\n",
       "      <td>5.0</td>\n",
       "      <td>12_anos_ou_mais</td>\n",
       "      <td>0.0</td>\n",
       "      <td>37_a_41_semanas</td>\n",
       "      <td>única</td>\n",
       "      <td>3</td>\n",
       "      <td>10.0</td>\n",
       "      <td>normal</td>\n",
       "    </tr>\n",
       "    <tr>\n",
       "      <th>4</th>\n",
       "      <td>1</td>\n",
       "      <td>30</td>\n",
       "      <td>2.0</td>\n",
       "      <td>8_a_11_anos</td>\n",
       "      <td>1.0</td>\n",
       "      <td>37_a_41_semanas</td>\n",
       "      <td>única</td>\n",
       "      <td>4</td>\n",
       "      <td>10.0</td>\n",
       "      <td>normal</td>\n",
       "    </tr>\n",
       "    <tr>\n",
       "      <th>...</th>\n",
       "      <td>...</td>\n",
       "      <td>...</td>\n",
       "      <td>...</td>\n",
       "      <td>...</td>\n",
       "      <td>...</td>\n",
       "      <td>...</td>\n",
       "      <td>...</td>\n",
       "      <td>...</td>\n",
       "      <td>...</td>\n",
       "      <td>...</td>\n",
       "    </tr>\n",
       "    <tr>\n",
       "      <th>27023</th>\n",
       "      <td>1</td>\n",
       "      <td>32</td>\n",
       "      <td>2.0</td>\n",
       "      <td>12_anos_ou_mais</td>\n",
       "      <td>1.0</td>\n",
       "      <td>32_a_36_semanas</td>\n",
       "      <td>única</td>\n",
       "      <td>4</td>\n",
       "      <td>9.0</td>\n",
       "      <td>normal</td>\n",
       "    </tr>\n",
       "    <tr>\n",
       "      <th>27024</th>\n",
       "      <td>1</td>\n",
       "      <td>19</td>\n",
       "      <td>1.0</td>\n",
       "      <td>8_a_11_anos</td>\n",
       "      <td>0.0</td>\n",
       "      <td>37_a_41_semanas</td>\n",
       "      <td>única</td>\n",
       "      <td>4</td>\n",
       "      <td>9.0</td>\n",
       "      <td>normal</td>\n",
       "    </tr>\n",
       "    <tr>\n",
       "      <th>27025</th>\n",
       "      <td>1</td>\n",
       "      <td>24</td>\n",
       "      <td>2.0</td>\n",
       "      <td>8_a_11_anos</td>\n",
       "      <td>0.0</td>\n",
       "      <td>37_a_41_semanas</td>\n",
       "      <td>única</td>\n",
       "      <td>4</td>\n",
       "      <td>10.0</td>\n",
       "      <td>normal</td>\n",
       "    </tr>\n",
       "    <tr>\n",
       "      <th>27026</th>\n",
       "      <td>1</td>\n",
       "      <td>21</td>\n",
       "      <td>2.0</td>\n",
       "      <td>8_a_11_anos</td>\n",
       "      <td>1.0</td>\n",
       "      <td>32_a_36_semanas</td>\n",
       "      <td>única</td>\n",
       "      <td>4</td>\n",
       "      <td>9.0</td>\n",
       "      <td>normal</td>\n",
       "    </tr>\n",
       "    <tr>\n",
       "      <th>27027</th>\n",
       "      <td>1</td>\n",
       "      <td>18</td>\n",
       "      <td>5.0</td>\n",
       "      <td>8_a_11_anos</td>\n",
       "      <td>1.0</td>\n",
       "      <td>37_a_41_semanas</td>\n",
       "      <td>única</td>\n",
       "      <td>4</td>\n",
       "      <td>8.0</td>\n",
       "      <td>normal</td>\n",
       "    </tr>\n",
       "  </tbody>\n",
       "</table>\n",
       "<p>26925 rows × 10 columns</p>\n",
       "</div>"
      ],
      "text/plain": [
       "      locnasc idademae estcivmae           escmae qtdfilvivo         gestacao  \\\n",
       "0           1       19       5.0      8_a_11_anos        0.0  37_a_41_semanas   \n",
       "1           1       29       2.0      8_a_11_anos        1.0  37_a_41_semanas   \n",
       "2           1       37       9.0      8_a_11_anos        2.0  37_a_41_semanas   \n",
       "3           1       30       5.0  12_anos_ou_mais        0.0  37_a_41_semanas   \n",
       "4           1       30       2.0      8_a_11_anos        1.0  37_a_41_semanas   \n",
       "...       ...      ...       ...              ...        ...              ...   \n",
       "27023       1       32       2.0  12_anos_ou_mais        1.0  32_a_36_semanas   \n",
       "27024       1       19       1.0      8_a_11_anos        0.0  37_a_41_semanas   \n",
       "27025       1       24       2.0      8_a_11_anos        0.0  37_a_41_semanas   \n",
       "27026       1       21       2.0      8_a_11_anos        1.0  32_a_36_semanas   \n",
       "27027       1       18       5.0      8_a_11_anos        1.0  37_a_41_semanas   \n",
       "\n",
       "      gravidez consultas apgar5 apgar5_cat  \n",
       "0        única         4   10.0     normal  \n",
       "1        única         4    9.0     normal  \n",
       "2        única         4   10.0     normal  \n",
       "3        única         3   10.0     normal  \n",
       "4        única         4   10.0     normal  \n",
       "...        ...       ...    ...        ...  \n",
       "27023    única         4    9.0     normal  \n",
       "27024    única         4    9.0     normal  \n",
       "27025    única         4   10.0     normal  \n",
       "27026    única         4    9.0     normal  \n",
       "27027    única         4    8.0     normal  \n",
       "\n",
       "[26925 rows x 10 columns]"
      ]
     },
     "execution_count": 99,
     "metadata": {},
     "output_type": "execute_result"
    }
   ],
   "source": [
    "selecao_sinasc"
   ]
  },
  {
   "cell_type": "code",
   "execution_count": null,
   "metadata": {},
   "outputs": [],
   "source": []
  }
 ],
 "metadata": {
  "kernelspec": {
   "display_name": "Python 3 (ipykernel)",
   "language": "python",
   "name": "python3"
  },
  "language_info": {
   "codemirror_mode": {
    "name": "ipython",
    "version": 3
   },
   "file_extension": ".py",
   "mimetype": "text/x-python",
   "name": "python",
   "nbconvert_exporter": "python",
   "pygments_lexer": "ipython3",
   "version": "3.10.9"
  }
 },
 "nbformat": 4,
 "nbformat_minor": 4
}
